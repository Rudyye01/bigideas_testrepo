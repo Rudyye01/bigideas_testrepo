{
 "cells": [
  {
   "cell_type": "code",
   "execution_count": 1,
   "metadata": {},
   "outputs": [
    {
     "name": "stdout",
     "output_type": "stream",
     "text": [
      "Insert your name: Nathan\n",
      "Insert a number: 5\n",
      "Enter a name: ASDA\n"
     ]
    },
    {
     "name": "stdout",
     "output_type": "stream",
     "text": [
      "Nathan has 5 oranges.\n",
      "asda\n"
     ]
    }
   ],
   "source": [
    "userInput = input(\"Insert your name:\")\n",
    "numInsert = input(\"Insert a number:\")\n",
    "print(userInput+\" has \"+numInsert+\" oranges.\")\n",
    "x = input(\"Enter a name:\")\n",
    "\n",
    "print(x.lower())"
   ]
  },
  {
   "cell_type": "code",
   "execution_count": null,
   "metadata": {},
   "outputs": [],
   "source": []
  }
 ],
 "metadata": {
  "kernelspec": {
   "display_name": "Python 3",
   "language": "python",
   "name": "python3"
  },
  "language_info": {
   "codemirror_mode": {
    "name": "ipython",
    "version": 3
   },
   "file_extension": ".py",
   "mimetype": "text/x-python",
   "name": "python",
   "nbconvert_exporter": "python",
   "pygments_lexer": "ipython3",
   "version": "3.8.3"
  }
 },
 "nbformat": 4,
 "nbformat_minor": 4
}
